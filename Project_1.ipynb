{
  "nbformat": 4,
  "nbformat_minor": 0,
  "metadata": {
    "colab": {
      "provenance": [],
      "authorship_tag": "ABX9TyNLByhcptMjp5UzWlr52WOz",
      "include_colab_link": true
    },
    "kernelspec": {
      "name": "python3",
      "display_name": "Python 3"
    },
    "language_info": {
      "name": "python"
    }
  },
  "cells": [
    {
      "cell_type": "markdown",
      "metadata": {
        "id": "view-in-github",
        "colab_type": "text"
      },
      "source": [
        "<a href=\"https://colab.research.google.com/github/manideep1428/Clone-Instagram/blob/main/Project_1.ipynb\" target=\"_parent\"><img src=\"https://colab.research.google.com/assets/colab-badge.svg\" alt=\"Open In Colab\"/></a>"
      ]
    },
    {
      "cell_type": "code",
      "source": [
        "import torch\n",
        "from torch import nn, optim\n",
        "import matplotlib.pyplot as plt\n",
        "import numpy as np\n",
        "from torchvision import datasets, transforms\n",
        "from torch.utils.data import DataLoader\n",
        "import os\n",
        "from pathlib import Path\n",
        "from PIL import Image\n",
        "import random"
      ],
      "metadata": {
        "id": "O2Udf0SA1pom"
      },
      "execution_count": 4,
      "outputs": []
    },
    {
      "cell_type": "code",
      "source": [
        "!pip install torchinfo\n",
        "from torchinfo import summary"
      ],
      "metadata": {
        "colab": {
          "base_uri": "https://localhost:8080/"
        },
        "id": "lC4k4CEr2g7m",
        "outputId": "4aed54c5-c0c4-416b-9168-c49a69844f7d"
      },
      "execution_count": 5,
      "outputs": [
        {
          "output_type": "stream",
          "name": "stdout",
          "text": [
            "Requirement already satisfied: torchinfo in /usr/local/lib/python3.10/dist-packages (1.8.0)\n"
          ]
        }
      ]
    },
    {
      "cell_type": "code",
      "source": [
        "device = torch.device('cuda' if torch.cuda.is_available() else 'cpu')\n",
        "print(f'Model is using {device}')"
      ],
      "metadata": {
        "colab": {
          "base_uri": "https://localhost:8080/"
        },
        "id": "VZU0kbnE1plZ",
        "outputId": "50c66872-82c7-45a2-b37f-5589c9f98e4f"
      },
      "execution_count": 6,
      "outputs": [
        {
          "output_type": "stream",
          "name": "stdout",
          "text": [
            "Model is using cpu\n"
          ]
        }
      ]
    },
    {
      "cell_type": "markdown",
      "source": [
        "##Download the DataCustom DataSet"
      ],
      "metadata": {
        "id": "MbH5blia2AXm"
      }
    },
    {
      "cell_type": "code",
      "source": [
        "import requests\n",
        "import zipfile\n",
        "from pathlib import Path\n",
        "\n",
        "data_path = Path(\"data/\")\n",
        "image_path = data_path/\"pizza_steak_sushi\"\n",
        "\n",
        "#If data don't exist\n",
        "if image_path.is_dir():\n",
        "  print(f\"{image_path} directory exists\")\n",
        "else:\n",
        "  print(f\"Did not find {image_path} directory, creating one...\")\n",
        "  image_path.mkdir(parents=True, exist_ok=True)\n",
        "\n",
        "  with open (data_path/\"pizza_steak_sushi.zip\", \"wb\") as f:\n",
        "    request = requests.get(\"https://github.com/mrdbourke/pytorch-deep-learning/raw/main/data/pizza_steak_sushi.zip\")\n",
        "    print(\"Downloading pizza, steak, sushi data...\")\n",
        "    f.write(request.content)\n",
        "\n",
        "  #Unzip the file\n",
        "  with zipfile.ZipFile(data_path/\"pizza_steak_sushi.zip\", \"r\") as zip_ref:\n",
        "    print(\"Unzipping pizza, steak, sushi data...\")\n",
        "    zip_ref.extractall(image_path)"
      ],
      "metadata": {
        "colab": {
          "base_uri": "https://localhost:8080/"
        },
        "id": "XeNZWX3K2Fs5",
        "outputId": "58b3d45d-1ba3-42aa-9638-7e17a5876fa8"
      },
      "execution_count": 7,
      "outputs": [
        {
          "output_type": "stream",
          "name": "stdout",
          "text": [
            "data/pizza_steak_sushi directory exists\n"
          ]
        }
      ]
    },
    {
      "cell_type": "code",
      "execution_count": 8,
      "metadata": {
        "id": "X94RhXoVy2Fj"
      },
      "outputs": [],
      "source": [
        "\n",
        "data_path = Path(\"data/\")\n",
        "image_path = data_path / \"pizza_steak_sushi\"\n",
        "train_dir = image_path / \"train\"\n",
        "test_dir = image_path / \"test\""
      ]
    },
    {
      "cell_type": "markdown",
      "source": [
        "## Define transforms"
      ],
      "metadata": {
        "id": "gRezCjmn1zlT"
      }
    },
    {
      "cell_type": "code",
      "source": [
        "data_transform = transforms.Compose([\n",
        "    transforms.Resize((64, 64)),\n",
        "    transforms.RandomHorizontalFlip(p=0.5),\n",
        "    transforms.ToTensor()\n",
        "])"
      ],
      "metadata": {
        "id": "ZnOtMlZD1zb6"
      },
      "execution_count": 9,
      "outputs": []
    },
    {
      "cell_type": "markdown",
      "source": [
        "## Load datasets and\n",
        "\n",
        "##Create DataLoaders"
      ],
      "metadata": {
        "id": "KcVVXcea1djH"
      }
    },
    {
      "cell_type": "code",
      "source": [
        "train_data = datasets.ImageFolder(root=train_dir, transform=data_transform)\n",
        "test_data = datasets.ImageFolder(root=test_dir, transform=data_transform)\n",
        "\n",
        "BATCH_SIZE = 32\n",
        "train_dataloader = DataLoader(train_data, batch_size=BATCH_SIZE, shuffle=True, num_workers=os.cpu_count())\n",
        "test_dataloader = DataLoader(test_data, batch_size=BATCH_SIZE, shuffle=False, num_workers=os.cpu_count())"
      ],
      "metadata": {
        "id": "3xAaIwTi1dcx"
      },
      "execution_count": 10,
      "outputs": []
    },
    {
      "cell_type": "markdown",
      "source": [
        "## Define model\n"
      ],
      "metadata": {
        "id": "lkE4Ugn11TuM"
      }
    },
    {
      "cell_type": "code",
      "source": [
        "class TinyVGG(nn.Module):\n",
        "    def __init__(self, input_shape: int, hidden_units: int, output_shape: int) -> None:\n",
        "        super().__init__()\n",
        "        self.conv_block_1 = nn.Sequential(\n",
        "            nn.Conv2d(input_shape, hidden_units, 3, 1, 1),\n",
        "            nn.ReLU(),\n",
        "            nn.Conv2d(hidden_units, hidden_units, 3, 1, 1),\n",
        "            nn.ReLU(),\n",
        "            nn.MaxPool2d(2)\n",
        "        )\n",
        "        self.conv_block_2 = nn.Sequential(\n",
        "            nn.Conv2d(hidden_units, hidden_units, 3, 1, 1),\n",
        "            nn.ReLU(),\n",
        "            nn.Conv2d(hidden_units, hidden_units, 3, 1, 1),\n",
        "            nn.ReLU(),\n",
        "            nn.MaxPool2d(2)\n",
        "        )\n",
        "        self.classifier = nn.Sequential(\n",
        "            nn.Flatten(),\n",
        "            nn.Linear(hidden_units * 16 * 16, output_shape)\n",
        "        )\n",
        "\n",
        "    def forward(self, x: torch.Tensor):\n",
        "        return self.classifier(self.conv_block_2(self.conv_block_1(x)))"
      ],
      "metadata": {
        "id": "6yRrMDY91Ti5"
      },
      "execution_count": 11,
      "outputs": []
    },
    {
      "cell_type": "code",
      "source": [
        "torch.manual_seed(42)\n",
        "model = TinyVGG(input_shape=3, hidden_units=10, output_shape=len(train_data.classes)).to(device)\n",
        "\n",
        "# Display model summary\n",
        "summary(model, input_size=(1, 3, 64, 64))\n"
      ],
      "metadata": {
        "colab": {
          "base_uri": "https://localhost:8080/"
        },
        "id": "Kqpr7L4I1FBY",
        "outputId": "93723f18-d7f8-4654-fb0a-15136e0b1b9b"
      },
      "execution_count": 12,
      "outputs": [
        {
          "output_type": "execute_result",
          "data": {
            "text/plain": [
              "==========================================================================================\n",
              "Layer (type:depth-idx)                   Output Shape              Param #\n",
              "==========================================================================================\n",
              "TinyVGG                                  [1, 3]                    --\n",
              "├─Sequential: 1-1                        [1, 10, 32, 32]           --\n",
              "│    └─Conv2d: 2-1                       [1, 10, 64, 64]           280\n",
              "│    └─ReLU: 2-2                         [1, 10, 64, 64]           --\n",
              "│    └─Conv2d: 2-3                       [1, 10, 64, 64]           910\n",
              "│    └─ReLU: 2-4                         [1, 10, 64, 64]           --\n",
              "│    └─MaxPool2d: 2-5                    [1, 10, 32, 32]           --\n",
              "├─Sequential: 1-2                        [1, 10, 16, 16]           --\n",
              "│    └─Conv2d: 2-6                       [1, 10, 32, 32]           910\n",
              "│    └─ReLU: 2-7                         [1, 10, 32, 32]           --\n",
              "│    └─Conv2d: 2-8                       [1, 10, 32, 32]           910\n",
              "│    └─ReLU: 2-9                         [1, 10, 32, 32]           --\n",
              "│    └─MaxPool2d: 2-10                   [1, 10, 16, 16]           --\n",
              "├─Sequential: 1-3                        [1, 3]                    --\n",
              "│    └─Flatten: 2-11                     [1, 2560]                 --\n",
              "│    └─Linear: 2-12                      [1, 3]                    7,683\n",
              "==========================================================================================\n",
              "Total params: 10,693\n",
              "Trainable params: 10,693\n",
              "Non-trainable params: 0\n",
              "Total mult-adds (M): 6.75\n",
              "==========================================================================================\n",
              "Input size (MB): 0.05\n",
              "Forward/backward pass size (MB): 0.82\n",
              "Params size (MB): 0.04\n",
              "Estimated Total Size (MB): 0.91\n",
              "=========================================================================================="
            ]
          },
          "metadata": {},
          "execution_count": 12
        }
      ]
    },
    {
      "cell_type": "markdown",
      "source": [
        "##Define training and testing functions\n"
      ],
      "metadata": {
        "id": "r8lxShtI05q1"
      }
    },
    {
      "cell_type": "code",
      "source": [
        "def train_step(model, dataloader, loss_fn, optimizer):\n",
        "    model.train()\n",
        "    train_loss, train_acc = 0, 0\n",
        "    for X, y in dataloader:\n",
        "        X, y = X.to(device), y.to(device)\n",
        "        y_pred = model(X)\n",
        "        loss = loss_fn(y_pred, y)\n",
        "        train_loss += loss.item()\n",
        "        optimizer.zero_grad()\n",
        "        loss.backward()\n",
        "        optimizer.step()\n",
        "        y_pred_class = torch.argmax(torch.softmax(y_pred, dim=1), dim=1)\n",
        "        train_acc += (y_pred_class == y).sum().item() / len(y_pred)\n",
        "    return train_loss / len(dataloader), train_acc / len(dataloader)\n",
        "\n",
        "\n",
        "def test_step(model, dataloader, loss_fn):\n",
        "    model.eval()\n",
        "    test_loss, test_acc = 0, 0\n",
        "    with torch.inference_mode():\n",
        "        for X, y in dataloader:\n",
        "            X, y = X.to(device), y.to(device)\n",
        "            test_pred_logits = model(X)\n",
        "            loss = loss_fn(test_pred_logits, y)\n",
        "            test_loss += loss.item()\n",
        "            test_pred_labels = test_pred_logits.argmax(dim=1)\n",
        "            test_acc += (test_pred_labels == y).sum().item() / len(test_pred_labels)\n",
        "    return test_loss / len(dataloader), test_acc / len(dataloader)\n"
      ],
      "metadata": {
        "id": "Ibicnynp05nd"
      },
      "execution_count": 13,
      "outputs": []
    },
    {
      "cell_type": "markdown",
      "source": [
        "##Define training loop"
      ],
      "metadata": {
        "id": "_l7c95ed0y6f"
      }
    },
    {
      "cell_type": "code",
      "source": [
        "def train(model, train_dataloader, test_dataloader, optimizer, loss_fn, epochs):\n",
        "    results = {\"train_loss\": [], \"train_acc\": [], \"test_loss\": [], \"test_acc\": []}\n",
        "    for epoch in range(epochs):\n",
        "        train_loss, train_acc = train_step(model, train_dataloader, loss_fn, optimizer)\n",
        "        test_loss, test_acc = test_step(model, test_dataloader, loss_fn)\n",
        "        print(f\"Epoch: {epoch+1} | train_loss: {train_loss:.4f} | train_acc: {train_acc:.4f} | test_loss: {test_loss:.4f} | test_acc: {test_acc:.4f}\")\n",
        "        results[\"train_loss\"].append(train_loss)\n",
        "        results[\"train_acc\"].append(train_acc)\n",
        "        results[\"test_loss\"].append(test_loss)\n",
        "        results[\"test_acc\"].append(test_acc)\n",
        "    return results"
      ],
      "metadata": {
        "id": "O5jidCFW0y3N"
      },
      "execution_count": 14,
      "outputs": []
    },
    {
      "cell_type": "markdown",
      "source": [
        "## Set up loss function and optimizer\n"
      ],
      "metadata": {
        "id": "1PFporaS0phz"
      }
    },
    {
      "cell_type": "code",
      "source": [
        "loss_fn = nn.CrossEntropyLoss()\n",
        "optimizer = optim.Adam(model.parameters(), lr=0.001)\n"
      ],
      "metadata": {
        "id": "XdukfPW10ped"
      },
      "execution_count": 15,
      "outputs": []
    },
    {
      "cell_type": "markdown",
      "source": [
        "## Train the model\n"
      ],
      "metadata": {
        "id": "H5ztZYJE0lhD"
      }
    },
    {
      "cell_type": "code",
      "source": [
        "\n",
        "epochs = 15\n",
        "results = train(model, train_dataloader, test_dataloader, optimizer, loss_fn, epochs)\n"
      ],
      "metadata": {
        "colab": {
          "base_uri": "https://localhost:8080/"
        },
        "id": "t-TJTIOK0lbB",
        "outputId": "eb073ec1-7c2a-4555-f4e5-8770d9d4e96c"
      },
      "execution_count": 18,
      "outputs": [
        {
          "output_type": "stream",
          "name": "stdout",
          "text": [
            "Epoch: 1 | train_loss: 1.0914 | train_acc: 0.4062 | test_loss: 1.0710 | test_acc: 0.5417\n",
            "Epoch: 2 | train_loss: 1.1137 | train_acc: 0.2812 | test_loss: 1.0620 | test_acc: 0.5417\n",
            "Epoch: 3 | train_loss: 1.0962 | train_acc: 0.4023 | test_loss: 1.0811 | test_acc: 0.5417\n",
            "Epoch: 4 | train_loss: 1.1019 | train_acc: 0.2812 | test_loss: 1.0834 | test_acc: 0.5417\n",
            "Epoch: 5 | train_loss: 1.0967 | train_acc: 0.2812 | test_loss: 1.0933 | test_acc: 0.1979\n",
            "Epoch: 6 | train_loss: 1.0925 | train_acc: 0.4141 | test_loss: 1.1066 | test_acc: 0.1979\n",
            "Epoch: 7 | train_loss: 1.0888 | train_acc: 0.4141 | test_loss: 1.1279 | test_acc: 0.1979\n",
            "Epoch: 8 | train_loss: 1.1132 | train_acc: 0.2930 | test_loss: 1.1289 | test_acc: 0.1979\n",
            "Epoch: 9 | train_loss: 1.0805 | train_acc: 0.2930 | test_loss: 1.0774 | test_acc: 0.3617\n",
            "Epoch: 10 | train_loss: 1.0119 | train_acc: 0.5234 | test_loss: 1.0243 | test_acc: 0.5947\n",
            "Epoch: 11 | train_loss: 0.9855 | train_acc: 0.4258 | test_loss: 1.0090 | test_acc: 0.5047\n",
            "Epoch: 12 | train_loss: 0.8879 | train_acc: 0.6836 | test_loss: 1.0232 | test_acc: 0.4034\n",
            "Epoch: 13 | train_loss: 0.8607 | train_acc: 0.6758 | test_loss: 1.0295 | test_acc: 0.4953\n",
            "Epoch: 14 | train_loss: 0.8071 | train_acc: 0.6562 | test_loss: 1.0269 | test_acc: 0.3930\n",
            "Epoch: 15 | train_loss: 0.7840 | train_acc: 0.6836 | test_loss: 1.0507 | test_acc: 0.4233\n"
          ]
        }
      ]
    },
    {
      "cell_type": "markdown",
      "source": [
        "## Plot results\n"
      ],
      "metadata": {
        "id": "NrIXAnU70ecB"
      }
    },
    {
      "cell_type": "code",
      "source": [
        "plt.figure(figsize=(15, 7))\n",
        "plt.subplot(1, 2, 1)\n",
        "plt.plot(results['train_loss'], label='Train loss')\n",
        "plt.plot(results['test_loss'], label='Test loss')\n",
        "plt.title('Loss')\n",
        "plt.legend()\n",
        "\n",
        "plt.subplot(1, 2, 2)\n",
        "plt.plot(results['train_acc'], label='Train accuracy')\n",
        "plt.plot(results['test_acc'], label='Test accuracy')\n",
        "plt.title('Accuracy')\n",
        "plt.legend()\n",
        "\n",
        "plt.show()"
      ],
      "metadata": {
        "colab": {
          "base_uri": "https://localhost:8080/",
          "height": 479
        },
        "id": "NGxdt0iO0cTR",
        "outputId": "fda74b04-b512-4660-9076-de77f5dd4e8b"
      },
      "execution_count": 17,
      "outputs": [
        {
          "output_type": "display_data",
          "data": {
            "text/plain": [
              "<Figure size 1500x700 with 2 Axes>"
            ],
            "image/png": "[encoded data removed]"
          },
          "metadata": {}
        }
      ]
    },
    {
      "cell_type": "code",
      "source": [],
      "metadata": {
        "id": "qHOiLtPI2yo5"
      },
      "execution_count": null,
      "outputs": []
    }
  ]
}